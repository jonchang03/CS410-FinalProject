{
 "cells": [
  {
   "cell_type": "code",
   "execution_count": 6,
   "metadata": {},
   "outputs": [],
   "source": [
    "import os \n",
    "import tweepy as tw\n",
    "import pandas as pd\n",
    "import json\n",
    "import datetime\n",
    "import re\n",
    "import json\n",
    "import numpy as np\n",
    "import pickle\n",
    "import joblib\n",
    "\n",
    "from textblob import TextBlob \n",
    "from sklearn.feature_extraction.text import TfidfVectorizer\n",
    "from sklearn.cluster import KMeans\n",
    "from sklearn.metrics import adjusted_rand_score\n",
    "from pull_tweets import import_from_json, json_extract_text"
   ]
  },
  {
   "cell_type": "markdown",
   "metadata": {},
   "source": [
    "Here, we use the Twitter API to get the tweets for the top Democratic Presidential Candidates since 05/01/19. These include:  \n",
    "\n",
    "* Joe Biden - @JoeBiden\n",
    "* Elizabeth Warren - @SenWarren\n",
    "* Bernie Sanders - @BernieSanders\n",
    "* Pete Buttigieg - @PeteButtigieg\n",
    "* Kamala Harris - @KamalaHarris\n",
    "\n",
    "Maybe?  \n",
    "* Andrew Yang - @AndrewYang\n",
    "* Amy Klobuchar - @amyklobuchar"
   ]
  },
  {
   "cell_type": "markdown",
   "metadata": {},
   "source": [
    "# Part 1 - Twitter Data"
   ]
  },
  {
   "cell_type": "code",
   "execution_count": 7,
   "metadata": {},
   "outputs": [],
   "source": [
    "def get_tweets(handle='JoeBiden') :\n",
    "    \n",
    "    consumer_key = '7KEQmTV6fhm0mnmsyO9XNKPpx'\n",
    "    consumer_secret = 'bevlcE2PiQAu0bMgSsBj1QrpOVdC3KGVyNvwu8A1rnlozLIUlq'\n",
    "    access_token = '139221007-Oxzs1aPNr0pQefpVd5jeDfogKC9CktkiGityJGSJ'\n",
    "    access_token_secret = '6EN5WAOCWH7E6avW9uomIvRYwQZfFxnBJS1yKCj3qJYRx'\n",
    "\n",
    "    counter = 0\n",
    "    final_dict = {}\n",
    "    \n",
    "    auth = tw.OAuthHandler(consumer_key, consumer_secret)\n",
    "    auth.set_access_token(access_token, access_token_secret)\n",
    "    api = tw.API(auth, wait_on_rate_limit=True)\n",
    "\n",
    "    path = '../data/' + handle + '.json'\n",
    "\n",
    "    # Check to see if we've pulled yet\n",
    "    if not os.path.isfile(path):    \n",
    "        for status in tw.Cursor(api.user_timeline, screen_name='@' + handle, tweet_mode=\"extended\").items():\n",
    "            print(status.created_at)\n",
    "            curr_dict = {}\n",
    "            curr_dict['text'] = status.full_text\n",
    "            curr_dict['date'] = str(status.created_at)\n",
    "            final_dict[counter] = curr_dict\n",
    "            counter += 1\n",
    "            end_date = datetime.datetime.strptime(\"07/01/19\", \"%m/%d/%y\")\n",
    "            if status.created_at < end_date :\n",
    "                break\n",
    "\n",
    "\n",
    "            with open(path, 'w', encoding='utf-8') as json_file:\n",
    "                json.dump(final_dict, json_file)\n"
   ]
  },
  {
   "cell_type": "markdown",
   "metadata": {},
   "source": [
    "## Pull Data\n",
    "Loop through candidate handles and create json files of the tweets for each candidates."
   ]
  },
  {
   "cell_type": "code",
   "execution_count": 8,
   "metadata": {},
   "outputs": [
    {
     "name": "stdout",
     "output_type": "stream",
     "text": [
      "CPU times: user 695 µs, sys: 213 µs, total: 908 µs\n",
      "Wall time: 785 µs\n"
     ]
    }
   ],
   "source": [
    "%%time\n",
    "candidate_handles = ['JoeBiden', 'SenWarren', 'BernieSanders', 'PeteButtigieg', 'KamalaHarris']\n",
    "# candidate_handles = ['AndrewYang', 'amyklobuchar']\n",
    "for h in candidate_handles:\n",
    "    get_tweets(handle=h)"
   ]
  },
  {
   "cell_type": "markdown",
   "metadata": {},
   "source": [
    "# Part 2 - Modeling (Clustering)"
   ]
  },
  {
   "cell_type": "code",
   "execution_count": 9,
   "metadata": {},
   "outputs": [],
   "source": [
    "text=[]\n",
    "data = import_from_json(\"../data/BernieSanders.json\")\n",
    "text += json_extract_text(data)\n",
    "data = import_from_json(\"../data/PeteButtigieg.json\")\n",
    "text += json_extract_text(data)\n",
    "data = import_from_json(\"../data/KamalaHarris.json\")\n",
    "text += json_extract_text(data)\n",
    "data = import_from_json(\"../data/JoeBiden.json\")\n",
    "text += json_extract_text(data)\n",
    "data = import_from_json(\"../data/SenWarren.json\")\n",
    "text += json_extract_text(data)\n"
   ]
  },
  {
   "cell_type": "code",
   "execution_count": 10,
   "metadata": {},
   "outputs": [
    {
     "name": "stdout",
     "output_type": "stream",
     "text": [
      "CPU times: user 10.5 s, sys: 150 ms, total: 10.7 s\n",
      "Wall time: 2.94 s\n"
     ]
    },
    {
     "data": {
      "text/plain": [
       "KMeans(algorithm='auto', copy_x=True, init='k-means++', max_iter=100,\n",
       "       n_clusters=8, n_init=1, n_jobs=None, precompute_distances='auto',\n",
       "       random_state=None, tol=0.0001, verbose=0)"
      ]
     },
     "execution_count": 10,
     "metadata": {},
     "output_type": "execute_result"
    }
   ],
   "source": [
    "%%time\n",
    "\n",
    "vectorizer = TfidfVectorizer(stop_words='english')\n",
    "X = vectorizer.fit_transform(text)\n",
    "\n",
    "true_k = 8\n",
    "model = KMeans(n_clusters=true_k, init='k-means++', max_iter=100, n_init=1)\n",
    "model.fit(X)\n",
    "\n",
    "# try_to_guess = text[:4]\n",
    "# for i in try_to_guess :\n",
    "#     Y = vectorizer.transform([i])\n",
    "#     prediction = model.predict(Y)\n",
    "#     print(i)\n",
    "#     print(prediction)"
   ]
  },
  {
   "cell_type": "markdown",
   "metadata": {},
   "source": [
    "## Pickle Model and Vectorizer"
   ]
  },
  {
   "cell_type": "code",
   "execution_count": 11,
   "metadata": {},
   "outputs": [],
   "source": [
    "# # Pickle Model\n",
    "path = 'models/final_prediction.pickle'\n",
    "pickle.dump(model, open(path, 'wb'))"
   ]
  },
  {
   "cell_type": "code",
   "execution_count": 12,
   "metadata": {},
   "outputs": [],
   "source": [
    "path = 'models/final_vectorizer.pickle'\n",
    "pickle.dump(vectorizer, open(path, 'wb'))"
   ]
  },
  {
   "cell_type": "code",
   "execution_count": 16,
   "metadata": {
    "scrolled": true
   },
   "outputs": [
    {
     "name": "stdout",
     "output_type": "stream",
     "text": [
      "Top terms per cluster:\n",
      "Cluster 0:\n",
      " https\n",
      " president\n",
      " people\n",
      " america\n",
      " time\n",
      " country\n",
      " gun\n",
      " need\n",
      " end\n",
      " today\n",
      "Cluster 1:\n",
      " rt\n",
      " berniesanders\n",
      " peteforamerica\n",
      " petebuttigieg\n",
      " https\n",
      " bernie\n",
      " new\n",
      " plan\n",
      " kamalaharris\n",
      " sanders\n",
      "Cluster 2:\n",
      " fight\n",
      " https\n",
      " stand\n",
      " justice\n",
      " rights\n",
      " people\n",
      " proud\n",
      " president\n",
      " rt\n",
      " women\n",
      "Cluster 3:\n",
      " care\n",
      " health\n",
      " medicare\n",
      " right\n",
      " https\n",
      " insurance\n",
      " affordable\n",
      " need\n",
      " access\n",
      " americans\n",
      "Cluster 4:\n",
      " campaign\n",
      " https\n",
      " join\n",
      " people\n",
      " country\n",
      " going\n",
      " iowa\n",
      " movement\n",
      " live\n",
      " new\n",
      "Cluster 5:\n",
      " trump\n",
      " donald\n",
      " president\n",
      " https\n",
      " going\n",
      " defeat\n",
      " tax\n",
      " people\n",
      " country\n",
      " american\n",
      "Cluster 6:\n",
      " workers\n",
      " pay\n",
      " wage\n",
      " teachers\n",
      " https\n",
      " fair\n",
      " stand\n",
      " wages\n",
      " deserve\n",
      " union\n",
      "Cluster 7:\n",
      " amp\n",
      " climate\n",
      " change\n",
      " crisis\n",
      " https\n",
      " new\n",
      " deal\n",
      " green\n",
      " fossil\n",
      " fuel\n"
     ]
    }
   ],
   "source": [
    "print(\"Top terms per cluster:\")\n",
    "order_centroids = model.cluster_centers_.argsort()[:, ::-1]\n",
    "terms = vectorizer.get_feature_names()\n",
    "for i in range(true_k):\n",
    "    print(\"Cluster %d:\" % i),\n",
    "    for ind in order_centroids[i, :10]:\n",
    "        print(' %s' % terms[ind]),\n",
    "    print"
   ]
  },
  {
   "cell_type": "markdown",
   "metadata": {},
   "source": [
    "### Prediction"
   ]
  },
  {
   "cell_type": "code",
   "execution_count": 17,
   "metadata": {},
   "outputs": [
    {
     "name": "stdout",
     "output_type": "stream",
     "text": [
      "RT @daylonprochaska: The movement around bernie is, ideologically, something we haven’t seen in decades. With the climate crisis looming, w…\n",
      "[1]\n",
      "RT @pujanpatel_: Bernie is one of the only presidential candidates that cares about my voice, and the collective voice of the working class…\n",
      "[1]\n",
      "RT @israhirsi: Officially the youngest endorser for the campaign! #Bernie2020 https://t.co/AE8HrXkgTH\n",
      "[1]\n",
      "Young people across the country are leading a movement to end the school-to-prison and deportation pipelines. When we are in the White House, together we'll create supportive school communities for all students and end all forms of racial injustice and discrimination. https://t.co/C4TubAwosi\n",
      "[0]\n",
      "The time is long overdue for the U.S. government to stand with family farmers. If I am elected president, we will break up massive agriculture corporations and revitalize rural America. Join us live from Iowa Falls: https://t.co/qWSETL80mb\n",
      "[0]\n"
     ]
    }
   ],
   "source": [
    "try_to_guess = text[:5]\n",
    "for i in try_to_guess :\n",
    "    Y = vectorizer.transform([i])\n",
    "    prediction = model.predict(Y)\n",
    "    print(i)\n",
    "    print(prediction)"
   ]
  },
  {
   "cell_type": "code",
   "execution_count": 18,
   "metadata": {},
   "outputs": [
    {
     "name": "stdout",
     "output_type": "stream",
     "text": [
      "Some campaigns give updates to their donors at closed-door fundraisers over hors d'oeuvres.\n",
      "\n",
      "Our campaign is a little different.\n",
      "\n",
      "Live tonight at 11 pm EST, campaign manager @fshakir will give another update for our grassroots supporters. And this time he'll have a special guest.\n"
     ]
    },
    {
     "data": {
      "text/plain": [
       "4"
      ]
     },
     "execution_count": 18,
     "metadata": {},
     "output_type": "execute_result"
    }
   ],
   "source": [
    "N = 10\n",
    "print(text[N])\n",
    "model.predict(vectorizer.transform([text[N]]))[0]"
   ]
  },
  {
   "cell_type": "markdown",
   "metadata": {},
   "source": [
    "## Create prediction.py"
   ]
  },
  {
   "cell_type": "code",
   "execution_count": 65,
   "metadata": {},
   "outputs": [
    {
     "name": "stdout",
     "output_type": "stream",
     "text": [
      "Iowa Chief Justice Mark Cady leaves behind a powerful legacy of protecting the rights of young Iowans and LGBTQ Americans. He will be greatly missed. https://t.co/32hMh6AVGR\n",
      "[0]\n",
      "RT @ninaturner: Oooooooowee, what @shannondjackson said! We were feelin the Bern tonight! Thank you Bedford and Cambridge for spending your…\n",
      "[5]\n",
      "The #GreenNewDeal is possible and necessary. Pass it on. https://t.co/P7kKPEDq35\n",
      "[0]\n",
      "RT @fresnocity: Thousands came to the @fresnocity campus for the @BernieSanders rally. https://t.co/oIxh2VHZbv\n",
      "[5]\n",
      "Thank you Fresno! It is great to be back in California. Together, we are going to defeat Trump and pass a Green New Deal to address the climate crisis and create 20 million jobs. https://t.co/ARinUuFJif\n",
      "[6]\n"
     ]
    }
   ],
   "source": [
    "try_to_guess = text[:5]\n",
    "for i in try_to_guess :\n",
    "    Y = vectorizer.transform([i])\n",
    "    prediction = loaded_model.predict(Y)\n",
    "    print(i)\n",
    "    print(prediction)"
   ]
  },
  {
   "cell_type": "code",
   "execution_count": 19,
   "metadata": {},
   "outputs": [],
   "source": [
    "# load the model from disk\n",
    "model_path = 'models/final_prediction.pickle'\n",
    "vectorizer_path = 'models/final_vectorizer.pickle'\n",
    "loaded_model = pickle.load(open(model_path, 'rb'))\n",
    "vectorizer = pickle.load(open(vectorizer_path, 'rb'))"
   ]
  },
  {
   "cell_type": "code",
   "execution_count": 24,
   "metadata": {},
   "outputs": [],
   "source": [
    "def make_prediction(input_tweets, model=loaded_model):\n",
    "    predictions_list = []\n",
    "    for t in input_tweets:\n",
    "        tweet = vectorizer.transform([t])\n",
    "        pred_cluster = model.predict(tweet)[0]\n",
    "        predictions_list.append(pred_cluster)\n",
    "        print(\"Predicted_Cluster: {}\".format(pred_cluster))\n",
    "    return (predictions_list) # can maybe map to dictionary"
   ]
  },
  {
   "cell_type": "code",
   "execution_count": 26,
   "metadata": {},
   "outputs": [
    {
     "name": "stdout",
     "output_type": "stream",
     "text": [
      "Predicted_Cluster: 0\n",
      "Predicted_Cluster: 5\n",
      "Predicted_Cluster: 0\n",
      "Predicted_Cluster: 5\n",
      "Predicted_Cluster: 6\n",
      "Predicted_Cluster: 0\n",
      "Predicted_Cluster: 1\n",
      "Predicted_Cluster: 1\n",
      "Predicted_Cluster: 5\n",
      "Predicted_Cluster: 2\n",
      "Predicted_Cluster: 5\n",
      "Predicted_Cluster: 0\n",
      "Predicted_Cluster: 0\n",
      "Predicted_Cluster: 1\n",
      "Predicted_Cluster: 1\n",
      "Predicted_Cluster: 5\n",
      "Predicted_Cluster: 7\n",
      "Predicted_Cluster: 0\n",
      "Predicted_Cluster: 5\n",
      "Predicted_Cluster: 0\n",
      "[0, 5, 0, 5, 6, 0, 1, 1, 5, 2, 5, 0, 0, 1, 1, 5, 7, 0, 5, 0]\n"
     ]
    }
   ],
   "source": [
    "l = make_prediction(text[:20])\n",
    "print(l)"
   ]
  },
  {
   "cell_type": "code",
   "execution_count": 29,
   "metadata": {},
   "outputs": [
    {
     "data": {
      "text/plain": [
       "'RT @fresnocity: Thousands came to the @fresnocity campus for the @BernieSanders rally. https://t.co/oIxh2VHZbv'"
      ]
     },
     "execution_count": 29,
     "metadata": {},
     "output_type": "execute_result"
    }
   ],
   "source": [
    "text[3]"
   ]
  },
  {
   "cell_type": "code",
   "execution_count": 17,
   "metadata": {},
   "outputs": [
    {
     "ename": "NameError",
     "evalue": "name 'make_prediction' is not defined",
     "output_type": "error",
     "traceback": [
      "\u001b[0;31m---------------------------------------------------------------------------\u001b[0m",
      "\u001b[0;31mNameError\u001b[0m                                 Traceback (most recent call last)",
      "\u001b[0;32m<ipython-input-17-9ae018d88ef9>\u001b[0m in \u001b[0;36m<module>\u001b[0;34m\u001b[0m\n\u001b[0;32m----> 1\u001b[0;31m \u001b[0mmake_prediction\u001b[0m\u001b[0;34m(\u001b[0m\u001b[0mtext\u001b[0m\u001b[0;34m[\u001b[0m\u001b[0;34m:\u001b[0m\u001b[0;36m3\u001b[0m\u001b[0;34m]\u001b[0m\u001b[0;34m)\u001b[0m\u001b[0;34m\u001b[0m\u001b[0;34m\u001b[0m\u001b[0m\n\u001b[0m",
      "\u001b[0;31mNameError\u001b[0m: name 'make_prediction' is not defined"
     ]
    }
   ],
   "source": [
    "make_prediction(text[:3])\n"
   ]
  },
  {
   "cell_type": "code",
   "execution_count": 2,
   "metadata": {},
   "outputs": [
    {
     "name": "stdout",
     "output_type": "stream",
     "text": [
      "/Users/jonathan/anaconda/envs/cs410/bin/python\n"
     ]
    }
   ],
   "source": [
    "%%bash\n",
    "which python"
   ]
  },
  {
   "cell_type": "code",
   "execution_count": 1,
   "metadata": {},
   "outputs": [
    {
     "ename": "ModuleNotFoundError",
     "evalue": "No module named 'flask'",
     "output_type": "error",
     "traceback": [
      "\u001b[0;31m---------------------------------------------------------------------------\u001b[0m",
      "\u001b[0;31mModuleNotFoundError\u001b[0m                       Traceback (most recent call last)",
      "\u001b[0;32m<ipython-input-1-02ec44f15b1c>\u001b[0m in \u001b[0;36m<module>\u001b[0;34m\u001b[0m\n\u001b[0;32m----> 1\u001b[0;31m \u001b[0;32mfrom\u001b[0m \u001b[0mflask\u001b[0m \u001b[0;32mimport\u001b[0m \u001b[0mjsonify\u001b[0m\u001b[0;34m\u001b[0m\u001b[0;34m\u001b[0m\u001b[0m\n\u001b[0m",
      "\u001b[0;31mModuleNotFoundError\u001b[0m: No module named 'flask'"
     ]
    }
   ],
   "source": [
    "from flask import jsonify"
   ]
  },
  {
   "cell_type": "code",
   "execution_count": null,
   "metadata": {},
   "outputs": [],
   "source": []
  },
  {
   "cell_type": "code",
   "execution_count": null,
   "metadata": {},
   "outputs": [],
   "source": []
  },
  {
   "cell_type": "code",
   "execution_count": null,
   "metadata": {},
   "outputs": [],
   "source": []
  },
  {
   "cell_type": "code",
   "execution_count": null,
   "metadata": {},
   "outputs": [],
   "source": []
  },
  {
   "cell_type": "code",
   "execution_count": null,
   "metadata": {},
   "outputs": [],
   "source": []
  },
  {
   "cell_type": "code",
   "execution_count": null,
   "metadata": {},
   "outputs": [],
   "source": []
  },
  {
   "cell_type": "code",
   "execution_count": null,
   "metadata": {},
   "outputs": [],
   "source": []
  },
  {
   "cell_type": "code",
   "execution_count": null,
   "metadata": {},
   "outputs": [],
   "source": []
  },
  {
   "cell_type": "markdown",
   "metadata": {},
   "source": [
    "# Experimentation - \n",
    "Goal was to Correlate Polling Results w/ Sentiment"
   ]
  },
  {
   "cell_type": "markdown",
   "metadata": {},
   "source": [
    "## Extract Sentiment Scores\n",
    "Create weekly sentiment score for our candidates from 05/01/19 - 11/01/19."
   ]
  },
  {
   "cell_type": "code",
   "execution_count": 6,
   "metadata": {},
   "outputs": [],
   "source": [
    "def clean_tweet(tweet): \n",
    "    ''' \n",
    "    Utility function to clean tweet text by removing links, special characters \n",
    "    using simple regex statements. \n",
    "    '''\n",
    "    return ' '.join(re.sub(\"(@[A-Za-z0-9]+)|([^0-9A-Za-z \\t])|(\\w+:\\/\\/\\S+)\", \" \", tweet).split()) "
   ]
  },
  {
   "cell_type": "code",
   "execution_count": 7,
   "metadata": {},
   "outputs": [],
   "source": [
    "def get_tweet_sentiment(tweet): \n",
    "        ''' \n",
    "        Utility function to classify sentiment of passed tweet \n",
    "        using textblob's sentiment method \n",
    "        '''\n",
    "        # create TextBlob object of passed tweet text \n",
    "        analysis = TextBlob(clean_tweet(tweet)) \n",
    "        # set sentiment \n",
    "        return analysis.sentiment.polarity\n",
    "        # if analysis.sentiment.polarity > 0: \n",
    "        #     return 'positive'\n",
    "        # elif analysis.sentiment.polarity == 0: \n",
    "        #     return 'neutral'\n",
    "        # else: \n",
    "        #     return 'negative'\n"
   ]
  },
  {
   "cell_type": "code",
   "execution_count": 8,
   "metadata": {},
   "outputs": [],
   "source": [
    "def sentiment_by_days(start_date, num_of_days, tweets) :\n",
    "    tweet_count = 0 \n",
    "    sentiment_sum = 0 \n",
    "    start = start_date\n",
    "    end = start_date  + datetime.timedelta(days=num_of_days)\n",
    "    print(start)\n",
    "    print(end)\n",
    "    for key, value in tweets.items():\n",
    "        curr_date = datetime.datetime.strptime(value['date'], \"%Y-%m-%d %H:%M:%S\")\n",
    "        if curr_date >= start and curr_date < end : \n",
    "            tweet_count += 1 \n",
    "            sentiment_sum += get_tweet_sentiment(value['text'])\n",
    "    return sentiment_sum / tweet_count"
   ]
  },
  {
   "cell_type": "code",
   "execution_count": 0,
   "metadata": {},
   "outputs": [],
   "source": [
    "%%time\n",
    "candidate_handles = ['JoeBiden', 'SenWarren', 'BernieSanders', 'PeteButtigieg', 'KamalaHarris']\n",
    "# candidate_handles = ['AndrewYang', 'amyklobuchar']]\n",
    "\n",
    "for cand in candidate_handles:\n",
    "    print(cand)\n",
    "    cand_path = 'data/' + cand + '.json'\n",
    "    with open(cand_path) as json_file:\n",
    "        data = json.load(json_file)\n",
    "\n",
    "    curr_date = datetime.datetime.strptime(\"05/01/19\", \"%m/%d/%y\")\n",
    "    complete_date = datetime.datetime.strptime(\"11/01/19\", \"%m/%d/%y\")\n",
    "    sent_dict = {}\n",
    "    while(curr_date < complete_date) :\n",
    "        curr_sent = sentiment_by_days(curr_date, 7, data) \n",
    "        end_date = curr_date  + datetime.timedelta(days=7)\n",
    "        sent_dict[str(end_date)]  = curr_sent\n",
    "        curr_date += datetime.timedelta(days=7)\n",
    "    print(sent_dict)\n",
    "\n",
    "    cand_sent_path = 'data/' + cand + '_sent.json'\n",
    "    with open(cand_sent_path, 'w') as json_file:\n",
    "            json.dump(sent_dict, json_file)"
   ]
  },
  {
   "cell_type": "markdown",
   "metadata": {},
   "source": [
    "## Organize Sentiment Scores\n",
    "Steps:  \n",
    "* Convert the json sentiment scores into a pandas dataframe with a column for each candidate.\n",
    "* Filter sentiment scores to the most recent 1 month?"
   ]
  },
  {
   "cell_type": "code",
   "execution_count": 225,
   "metadata": {
    "scrolled": true
   },
   "outputs": [],
   "source": [
    "candidate_handles = ['JoeBiden', 'SenWarren', 'BernieSanders', 'PeteButtigieg', 'KamalaHarris']\n",
    "df_sent = pd.DataFrame()\n",
    "for cand in candidate_handles:\n",
    "    cand_sent_path = 'data/' + cand + '_sent.json'\n",
    "    ser = pd.read_json(cand_sent_path, typ='series')\n",
    "    df_sent[cand] = ser\n",
    "#     with open(cand_sent_path, 'r') as json_file:\n",
    "#         data = json.load(json_file)\n",
    "#         df_sent[cand] = data\n"
   ]
  },
  {
   "cell_type": "code",
   "execution_count": 232,
   "metadata": {},
   "outputs": [
    {
     "data": {
      "text/html": [
       "<div>\n",
       "<style scoped>\n",
       "    .dataframe tbody tr th:only-of-type {\n",
       "        vertical-align: middle;\n",
       "    }\n",
       "\n",
       "    .dataframe tbody tr th {\n",
       "        vertical-align: top;\n",
       "    }\n",
       "\n",
       "    .dataframe thead th {\n",
       "        text-align: right;\n",
       "    }\n",
       "</style>\n",
       "<table border=\"1\" class=\"dataframe\">\n",
       "  <thead>\n",
       "    <tr style=\"text-align: right;\">\n",
       "      <th></th>\n",
       "      <th>JoeBiden</th>\n",
       "      <th>SenWarren</th>\n",
       "      <th>BernieSanders</th>\n",
       "      <th>PeteButtigieg</th>\n",
       "      <th>KamalaHarris</th>\n",
       "    </tr>\n",
       "  </thead>\n",
       "  <tbody>\n",
       "    <tr>\n",
       "      <th>2019-10-02</th>\n",
       "      <td>0.068147</td>\n",
       "      <td>0.039470</td>\n",
       "      <td>0.139237</td>\n",
       "      <td>0.213173</td>\n",
       "      <td>0.112059</td>\n",
       "    </tr>\n",
       "    <tr>\n",
       "      <th>2019-10-09</th>\n",
       "      <td>0.102347</td>\n",
       "      <td>0.175370</td>\n",
       "      <td>0.196806</td>\n",
       "      <td>0.071675</td>\n",
       "      <td>0.100850</td>\n",
       "    </tr>\n",
       "    <tr>\n",
       "      <th>2019-10-16</th>\n",
       "      <td>0.088505</td>\n",
       "      <td>0.129198</td>\n",
       "      <td>0.113038</td>\n",
       "      <td>0.203512</td>\n",
       "      <td>0.174765</td>\n",
       "    </tr>\n",
       "    <tr>\n",
       "      <th>2019-10-23</th>\n",
       "      <td>0.097825</td>\n",
       "      <td>0.017157</td>\n",
       "      <td>0.134056</td>\n",
       "      <td>0.088568</td>\n",
       "      <td>0.097215</td>\n",
       "    </tr>\n",
       "  </tbody>\n",
       "</table>\n",
       "</div>"
      ],
      "text/plain": [
       "            JoeBiden  SenWarren  BernieSanders  PeteButtigieg  KamalaHarris\n",
       "2019-10-02  0.068147   0.039470       0.139237       0.213173      0.112059\n",
       "2019-10-09  0.102347   0.175370       0.196806       0.071675      0.100850\n",
       "2019-10-16  0.088505   0.129198       0.113038       0.203512      0.174765\n",
       "2019-10-23  0.097825   0.017157       0.134056       0.088568      0.097215"
      ]
     },
     "execution_count": 232,
     "metadata": {},
     "output_type": "execute_result"
    }
   ],
   "source": [
    "df_sent['end_date'] = df_sent.index\n",
    "df_sent = df_sent[(df_sent['end_date'] < '2019-10-27') & (df_sent['end_date'] >= '2019-10-01')]\n",
    "df_sent = df_sent.drop('end_date', 1)\n",
    "df_sent"
   ]
  },
  {
   "cell_type": "code",
   "execution_count": 234,
   "metadata": {},
   "outputs": [
    {
     "data": {
      "text/html": [
       "<div>\n",
       "<style scoped>\n",
       "    .dataframe tbody tr th:only-of-type {\n",
       "        vertical-align: middle;\n",
       "    }\n",
       "\n",
       "    .dataframe tbody tr th {\n",
       "        vertical-align: top;\n",
       "    }\n",
       "\n",
       "    .dataframe thead th {\n",
       "        text-align: right;\n",
       "    }\n",
       "</style>\n",
       "<table border=\"1\" class=\"dataframe\">\n",
       "  <thead>\n",
       "    <tr style=\"text-align: right;\">\n",
       "      <th></th>\n",
       "      <th>2019-10-02</th>\n",
       "      <th>2019-10-09</th>\n",
       "      <th>2019-10-16</th>\n",
       "      <th>2019-10-23</th>\n",
       "    </tr>\n",
       "  </thead>\n",
       "  <tbody>\n",
       "    <tr>\n",
       "      <th>JoeBiden</th>\n",
       "      <td>0.068147</td>\n",
       "      <td>0.102347</td>\n",
       "      <td>0.088505</td>\n",
       "      <td>0.097825</td>\n",
       "    </tr>\n",
       "    <tr>\n",
       "      <th>SenWarren</th>\n",
       "      <td>0.039470</td>\n",
       "      <td>0.175370</td>\n",
       "      <td>0.129198</td>\n",
       "      <td>0.017157</td>\n",
       "    </tr>\n",
       "    <tr>\n",
       "      <th>BernieSanders</th>\n",
       "      <td>0.139237</td>\n",
       "      <td>0.196806</td>\n",
       "      <td>0.113038</td>\n",
       "      <td>0.134056</td>\n",
       "    </tr>\n",
       "    <tr>\n",
       "      <th>PeteButtigieg</th>\n",
       "      <td>0.213173</td>\n",
       "      <td>0.071675</td>\n",
       "      <td>0.203512</td>\n",
       "      <td>0.088568</td>\n",
       "    </tr>\n",
       "    <tr>\n",
       "      <th>KamalaHarris</th>\n",
       "      <td>0.112059</td>\n",
       "      <td>0.100850</td>\n",
       "      <td>0.174765</td>\n",
       "      <td>0.097215</td>\n",
       "    </tr>\n",
       "  </tbody>\n",
       "</table>\n",
       "</div>"
      ],
      "text/plain": [
       "               2019-10-02  2019-10-09  2019-10-16  2019-10-23\n",
       "JoeBiden         0.068147    0.102347    0.088505    0.097825\n",
       "SenWarren        0.039470    0.175370    0.129198    0.017157\n",
       "BernieSanders    0.139237    0.196806    0.113038    0.134056\n",
       "PeteButtigieg    0.213173    0.071675    0.203512    0.088568\n",
       "KamalaHarris     0.112059    0.100850    0.174765    0.097215"
      ]
     },
     "execution_count": 234,
     "metadata": {},
     "output_type": "execute_result"
    }
   ],
   "source": [
    "df_sent.T"
   ]
  },
  {
   "cell_type": "code",
   "execution_count": null,
   "metadata": {},
   "outputs": [],
   "source": []
  },
  {
   "cell_type": "code",
   "execution_count": null,
   "metadata": {},
   "outputs": [],
   "source": []
  },
  {
   "cell_type": "markdown",
   "metadata": {},
   "source": [
    "## RealClearPolitics Data"
   ]
  },
  {
   "cell_type": "markdown",
   "metadata": {},
   "source": [
    "Polling data is gathered copied from [Real Clear Politics](https://www.realclearpolitics.com/epolls/2020/president/us/2020_democratic_presidential_nomination-6730.html). We just copied and pasted this into Excel to produce a .csv and ensured that we were selecting only 2019 data for the purposes of this project.\n",
    "\n",
    "Preprocessing Steps:\n",
    "1. convert date range column into two columns for beginning and end date by splitting on '-'\n",
    "2. Replace cells of NAs or '--' with 0\n",
    "3. Filter criteria\n",
    "    * Only care about polling data that occurs after a given date (twitter data and corresponding sentiment scores must occur prior to this date)\n",
    "    * Only columns corresponding to: Biden, Warren, Sanders, Buttigleg, Harris\n",
    "4. Take the average across a column (for unique polls) for each candidate\n",
    "    * we need to exclude the RCP Average since we are computing our own for a given date range\n",
    "    * we also only care about the lastest polling results for a given polling source\n",
    "5. Finally, we only care about the top 5 candidates for the purpose of this exercise (Biden, Warren, Sanders, Buttigieg, Harris) so we'll filter to those. We also need to ensure that the polling values are numeric."
   ]
  },
  {
   "cell_type": "code",
   "execution_count": 192,
   "metadata": {},
   "outputs": [
    {
     "data": {
      "text/html": [
       "<div>\n",
       "<style scoped>\n",
       "    .dataframe tbody tr th:only-of-type {\n",
       "        vertical-align: middle;\n",
       "    }\n",
       "\n",
       "    .dataframe tbody tr th {\n",
       "        vertical-align: top;\n",
       "    }\n",
       "\n",
       "    .dataframe thead th {\n",
       "        text-align: right;\n",
       "    }\n",
       "</style>\n",
       "<table border=\"1\" class=\"dataframe\">\n",
       "  <thead>\n",
       "    <tr style=\"text-align: right;\">\n",
       "      <th></th>\n",
       "      <th>Poll</th>\n",
       "      <th>Date</th>\n",
       "      <th>Biden</th>\n",
       "      <th>Warren</th>\n",
       "      <th>Sanders</th>\n",
       "      <th>Buttigieg</th>\n",
       "      <th>Harris</th>\n",
       "      <th>Yang</th>\n",
       "      <th>Klobuchar</th>\n",
       "      <th>Booker</th>\n",
       "      <th>Castro</th>\n",
       "      <th>Gabbard</th>\n",
       "      <th>Steyer</th>\n",
       "      <th>Bullock</th>\n",
       "      <th>Delaney</th>\n",
       "      <th>Spread</th>\n",
       "      <th>Initial_Date</th>\n",
       "      <th>End_Date</th>\n",
       "    </tr>\n",
       "  </thead>\n",
       "  <tbody>\n",
       "    <tr>\n",
       "      <th>1</th>\n",
       "      <td>Economist/YouGov</td>\n",
       "      <td>11/10 - 11/12</td>\n",
       "      <td>23</td>\n",
       "      <td>26.0</td>\n",
       "      <td>17.0</td>\n",
       "      <td>9</td>\n",
       "      <td>5.0</td>\n",
       "      <td>4</td>\n",
       "      <td>2</td>\n",
       "      <td>1.0</td>\n",
       "      <td>2.0</td>\n",
       "      <td>2</td>\n",
       "      <td>1</td>\n",
       "      <td>1</td>\n",
       "      <td>1</td>\n",
       "      <td>Warren +3</td>\n",
       "      <td>11/10</td>\n",
       "      <td>11/12</td>\n",
       "    </tr>\n",
       "    <tr>\n",
       "      <th>2</th>\n",
       "      <td>Politico/Morning Consult</td>\n",
       "      <td>11/4 - 11/10</td>\n",
       "      <td>32</td>\n",
       "      <td>19.0</td>\n",
       "      <td>20.0</td>\n",
       "      <td>8</td>\n",
       "      <td>5.0</td>\n",
       "      <td>3</td>\n",
       "      <td>2</td>\n",
       "      <td>3.0</td>\n",
       "      <td>1.0</td>\n",
       "      <td>1</td>\n",
       "      <td>1</td>\n",
       "      <td>1</td>\n",
       "      <td>1</td>\n",
       "      <td>Biden +12</td>\n",
       "      <td>11/4</td>\n",
       "      <td>11/10</td>\n",
       "    </tr>\n",
       "    <tr>\n",
       "      <th>3</th>\n",
       "      <td>Economist/YouGov</td>\n",
       "      <td>11/3 - 11/5</td>\n",
       "      <td>26</td>\n",
       "      <td>25.0</td>\n",
       "      <td>14.0</td>\n",
       "      <td>8</td>\n",
       "      <td>6.0</td>\n",
       "      <td>1</td>\n",
       "      <td>2</td>\n",
       "      <td>2.0</td>\n",
       "      <td>3.0</td>\n",
       "      <td>3</td>\n",
       "      <td>1</td>\n",
       "      <td>1</td>\n",
       "      <td>1</td>\n",
       "      <td>Biden +1</td>\n",
       "      <td>11/3</td>\n",
       "      <td>11/5</td>\n",
       "    </tr>\n",
       "    <tr>\n",
       "      <th>4</th>\n",
       "      <td>Monmouth</td>\n",
       "      <td>10/30 - 11/3</td>\n",
       "      <td>23</td>\n",
       "      <td>23.0</td>\n",
       "      <td>20.0</td>\n",
       "      <td>9</td>\n",
       "      <td>5.0</td>\n",
       "      <td>3</td>\n",
       "      <td>2</td>\n",
       "      <td>3.0</td>\n",
       "      <td>0.0</td>\n",
       "      <td>0</td>\n",
       "      <td>1</td>\n",
       "      <td>0</td>\n",
       "      <td>0</td>\n",
       "      <td>Tie</td>\n",
       "      <td>10/30</td>\n",
       "      <td>11/3</td>\n",
       "    </tr>\n",
       "    <tr>\n",
       "      <th>5</th>\n",
       "      <td>The Hill/HarrisX</td>\n",
       "      <td>11/1 - 11/2</td>\n",
       "      <td>26</td>\n",
       "      <td>15.0</td>\n",
       "      <td>14.0</td>\n",
       "      <td>6</td>\n",
       "      <td>6.0</td>\n",
       "      <td>1</td>\n",
       "      <td>3</td>\n",
       "      <td>2.0</td>\n",
       "      <td>2.0</td>\n",
       "      <td>1</td>\n",
       "      <td>1</td>\n",
       "      <td>1</td>\n",
       "      <td>1</td>\n",
       "      <td>Biden +11</td>\n",
       "      <td>11/1</td>\n",
       "      <td>11/2</td>\n",
       "    </tr>\n",
       "  </tbody>\n",
       "</table>\n",
       "</div>"
      ],
      "text/plain": [
       "                       Poll           Date  Biden  Warren  Sanders Buttigieg  \\\n",
       "1          Economist/YouGov  11/10 - 11/12     23    26.0     17.0         9   \n",
       "2  Politico/Morning Consult   11/4 - 11/10     32    19.0     20.0         8   \n",
       "3          Economist/YouGov    11/3 - 11/5     26    25.0     14.0         8   \n",
       "4                  Monmouth   10/30 - 11/3     23    23.0     20.0         9   \n",
       "5          The Hill/HarrisX    11/1 - 11/2     26    15.0     14.0         6   \n",
       "\n",
       "   Harris Yang Klobuchar  Booker  Castro Gabbard Steyer Bullock Delaney  \\\n",
       "1     5.0    4         2     1.0     2.0       2      1       1       1   \n",
       "2     5.0    3         2     3.0     1.0       1      1       1       1   \n",
       "3     6.0    1         2     2.0     3.0       3      1       1       1   \n",
       "4     5.0    3         2     3.0     0.0       0      1       0       0   \n",
       "5     6.0    1         3     2.0     2.0       1      1       1       1   \n",
       "\n",
       "      Spread Initial_Date End_Date  \n",
       "1  Warren +3       11/10     11/12  \n",
       "2  Biden +12        11/4     11/10  \n",
       "3   Biden +1        11/3      11/5  \n",
       "4        Tie       10/30      11/3  \n",
       "5  Biden +11        11/1      11/2  "
      ]
     },
     "execution_count": 192,
     "metadata": {},
     "output_type": "execute_result"
    }
   ],
   "source": [
    "df_polling = pd.read_csv('data/polling.csv')\n",
    "# split Date column into beginning and end of date range\n",
    "df_polling[['Initial_Date', 'End_Date']] = df_polling['Date'].str.split(\"-\", expand=True)\n",
    "df_polling = df_polling.iloc[1:] # drop RCP Average row\n",
    "df_polling.head()"
   ]
  },
  {
   "cell_type": "code",
   "execution_count": 193,
   "metadata": {},
   "outputs": [],
   "source": [
    "# convert date columns to dates\n",
    "df_polling['Initial_Date'] = df_polling['Initial_Date'].str.strip() + '/19'\n",
    "df_polling['End_Date'] = df_polling['End_Date'].str.strip() + '/19'\n",
    "\n",
    "df_polling['Initial_Date'] = df_polling['Initial_Date'].apply(lambda x: dt.datetime.strptime(x, '%m/%d/%y'))\n",
    "df_polling['End_Date'] = df_polling['End_Date'].apply(lambda x: dt.datetime.strptime(x, '%m/%d/%y'))"
   ]
  },
  {
   "cell_type": "code",
   "execution_count": 194,
   "metadata": {},
   "outputs": [
    {
     "data": {
      "text/html": [
       "<div>\n",
       "<style scoped>\n",
       "    .dataframe tbody tr th:only-of-type {\n",
       "        vertical-align: middle;\n",
       "    }\n",
       "\n",
       "    .dataframe tbody tr th {\n",
       "        vertical-align: top;\n",
       "    }\n",
       "\n",
       "    .dataframe thead th {\n",
       "        text-align: right;\n",
       "    }\n",
       "</style>\n",
       "<table border=\"1\" class=\"dataframe\">\n",
       "  <thead>\n",
       "    <tr style=\"text-align: right;\">\n",
       "      <th></th>\n",
       "      <th>Poll</th>\n",
       "      <th>Date</th>\n",
       "      <th>Biden</th>\n",
       "      <th>Warren</th>\n",
       "      <th>Sanders</th>\n",
       "      <th>Buttigieg</th>\n",
       "      <th>Harris</th>\n",
       "      <th>Yang</th>\n",
       "      <th>Klobuchar</th>\n",
       "      <th>Booker</th>\n",
       "      <th>Castro</th>\n",
       "      <th>Gabbard</th>\n",
       "      <th>Steyer</th>\n",
       "      <th>Bullock</th>\n",
       "      <th>Delaney</th>\n",
       "      <th>Spread</th>\n",
       "      <th>Initial_Date</th>\n",
       "      <th>End_Date</th>\n",
       "    </tr>\n",
       "  </thead>\n",
       "  <tbody>\n",
       "    <tr>\n",
       "      <th>1</th>\n",
       "      <td>Economist/YouGov</td>\n",
       "      <td>11/10 - 11/12</td>\n",
       "      <td>23</td>\n",
       "      <td>26.0</td>\n",
       "      <td>17.0</td>\n",
       "      <td>9</td>\n",
       "      <td>5.0</td>\n",
       "      <td>4</td>\n",
       "      <td>2</td>\n",
       "      <td>1.0</td>\n",
       "      <td>2.0</td>\n",
       "      <td>2</td>\n",
       "      <td>1</td>\n",
       "      <td>1</td>\n",
       "      <td>1</td>\n",
       "      <td>Warren +3</td>\n",
       "      <td>2019-11-10</td>\n",
       "      <td>2019-11-12</td>\n",
       "    </tr>\n",
       "    <tr>\n",
       "      <th>2</th>\n",
       "      <td>Politico/Morning Consult</td>\n",
       "      <td>11/4 - 11/10</td>\n",
       "      <td>32</td>\n",
       "      <td>19.0</td>\n",
       "      <td>20.0</td>\n",
       "      <td>8</td>\n",
       "      <td>5.0</td>\n",
       "      <td>3</td>\n",
       "      <td>2</td>\n",
       "      <td>3.0</td>\n",
       "      <td>1.0</td>\n",
       "      <td>1</td>\n",
       "      <td>1</td>\n",
       "      <td>1</td>\n",
       "      <td>1</td>\n",
       "      <td>Biden +12</td>\n",
       "      <td>2019-11-04</td>\n",
       "      <td>2019-11-10</td>\n",
       "    </tr>\n",
       "    <tr>\n",
       "      <th>3</th>\n",
       "      <td>Economist/YouGov</td>\n",
       "      <td>11/3 - 11/5</td>\n",
       "      <td>26</td>\n",
       "      <td>25.0</td>\n",
       "      <td>14.0</td>\n",
       "      <td>8</td>\n",
       "      <td>6.0</td>\n",
       "      <td>1</td>\n",
       "      <td>2</td>\n",
       "      <td>2.0</td>\n",
       "      <td>3.0</td>\n",
       "      <td>3</td>\n",
       "      <td>1</td>\n",
       "      <td>1</td>\n",
       "      <td>1</td>\n",
       "      <td>Biden +1</td>\n",
       "      <td>2019-11-03</td>\n",
       "      <td>2019-11-05</td>\n",
       "    </tr>\n",
       "    <tr>\n",
       "      <th>4</th>\n",
       "      <td>Monmouth</td>\n",
       "      <td>10/30 - 11/3</td>\n",
       "      <td>23</td>\n",
       "      <td>23.0</td>\n",
       "      <td>20.0</td>\n",
       "      <td>9</td>\n",
       "      <td>5.0</td>\n",
       "      <td>3</td>\n",
       "      <td>2</td>\n",
       "      <td>3.0</td>\n",
       "      <td>0.0</td>\n",
       "      <td>0</td>\n",
       "      <td>1</td>\n",
       "      <td>0</td>\n",
       "      <td>0</td>\n",
       "      <td>Tie</td>\n",
       "      <td>2019-10-30</td>\n",
       "      <td>2019-11-03</td>\n",
       "    </tr>\n",
       "    <tr>\n",
       "      <th>5</th>\n",
       "      <td>The Hill/HarrisX</td>\n",
       "      <td>11/1 - 11/2</td>\n",
       "      <td>26</td>\n",
       "      <td>15.0</td>\n",
       "      <td>14.0</td>\n",
       "      <td>6</td>\n",
       "      <td>6.0</td>\n",
       "      <td>1</td>\n",
       "      <td>3</td>\n",
       "      <td>2.0</td>\n",
       "      <td>2.0</td>\n",
       "      <td>1</td>\n",
       "      <td>1</td>\n",
       "      <td>1</td>\n",
       "      <td>1</td>\n",
       "      <td>Biden +11</td>\n",
       "      <td>2019-11-01</td>\n",
       "      <td>2019-11-02</td>\n",
       "    </tr>\n",
       "  </tbody>\n",
       "</table>\n",
       "</div>"
      ],
      "text/plain": [
       "                       Poll           Date  Biden  Warren  Sanders Buttigieg  \\\n",
       "1          Economist/YouGov  11/10 - 11/12     23    26.0     17.0         9   \n",
       "2  Politico/Morning Consult   11/4 - 11/10     32    19.0     20.0         8   \n",
       "3          Economist/YouGov    11/3 - 11/5     26    25.0     14.0         8   \n",
       "4                  Monmouth   10/30 - 11/3     23    23.0     20.0         9   \n",
       "5          The Hill/HarrisX    11/1 - 11/2     26    15.0     14.0         6   \n",
       "\n",
       "   Harris Yang Klobuchar  Booker  Castro Gabbard Steyer Bullock Delaney  \\\n",
       "1     5.0    4         2     1.0     2.0       2      1       1       1   \n",
       "2     5.0    3         2     3.0     1.0       1      1       1       1   \n",
       "3     6.0    1         2     2.0     3.0       3      1       1       1   \n",
       "4     5.0    3         2     3.0     0.0       0      1       0       0   \n",
       "5     6.0    1         3     2.0     2.0       1      1       1       1   \n",
       "\n",
       "      Spread Initial_Date   End_Date  \n",
       "1  Warren +3   2019-11-10 2019-11-12  \n",
       "2  Biden +12   2019-11-04 2019-11-10  \n",
       "3   Biden +1   2019-11-03 2019-11-05  \n",
       "4        Tie   2019-10-30 2019-11-03  \n",
       "5  Biden +11   2019-11-01 2019-11-02  "
      ]
     },
     "execution_count": 194,
     "metadata": {},
     "output_type": "execute_result"
    }
   ],
   "source": [
    "df_polling.head()"
   ]
  },
  {
   "cell_type": "code",
   "execution_count": 196,
   "metadata": {},
   "outputs": [
    {
     "data": {
      "text/html": [
       "<div>\n",
       "<style scoped>\n",
       "    .dataframe tbody tr th:only-of-type {\n",
       "        vertical-align: middle;\n",
       "    }\n",
       "\n",
       "    .dataframe tbody tr th {\n",
       "        vertical-align: top;\n",
       "    }\n",
       "\n",
       "    .dataframe thead th {\n",
       "        text-align: right;\n",
       "    }\n",
       "</style>\n",
       "<table border=\"1\" class=\"dataframe\">\n",
       "  <thead>\n",
       "    <tr style=\"text-align: right;\">\n",
       "      <th></th>\n",
       "      <th>Poll</th>\n",
       "      <th>Initial_Date</th>\n",
       "      <th>End_Date</th>\n",
       "      <th>Biden</th>\n",
       "      <th>Warren</th>\n",
       "      <th>Sanders</th>\n",
       "      <th>Buttigieg</th>\n",
       "      <th>Harris</th>\n",
       "    </tr>\n",
       "  </thead>\n",
       "  <tbody>\n",
       "    <tr>\n",
       "      <th>0</th>\n",
       "      <td>ABC News/Wash Post</td>\n",
       "      <td>2019-10-27</td>\n",
       "      <td>2019-10-30</td>\n",
       "      <td>28</td>\n",
       "      <td>23.0</td>\n",
       "      <td>17.0</td>\n",
       "      <td>9</td>\n",
       "      <td>2.0</td>\n",
       "    </tr>\n",
       "    <tr>\n",
       "      <th>1</th>\n",
       "      <td>Economist/YouGov</td>\n",
       "      <td>2019-11-10</td>\n",
       "      <td>2019-11-12</td>\n",
       "      <td>23</td>\n",
       "      <td>26.0</td>\n",
       "      <td>17.0</td>\n",
       "      <td>9</td>\n",
       "      <td>5.0</td>\n",
       "    </tr>\n",
       "    <tr>\n",
       "      <th>2</th>\n",
       "      <td>FOX News</td>\n",
       "      <td>2019-10-27</td>\n",
       "      <td>2019-10-30</td>\n",
       "      <td>31</td>\n",
       "      <td>21.0</td>\n",
       "      <td>19.0</td>\n",
       "      <td>7</td>\n",
       "      <td>3.0</td>\n",
       "    </tr>\n",
       "    <tr>\n",
       "      <th>3</th>\n",
       "      <td>Harvard-Harris</td>\n",
       "      <td>2019-10-29</td>\n",
       "      <td>2019-10-31</td>\n",
       "      <td>33</td>\n",
       "      <td>15.0</td>\n",
       "      <td>18.0</td>\n",
       "      <td>4</td>\n",
       "      <td>5.0</td>\n",
       "    </tr>\n",
       "    <tr>\n",
       "      <th>4</th>\n",
       "      <td>Monmouth</td>\n",
       "      <td>2019-10-30</td>\n",
       "      <td>2019-11-03</td>\n",
       "      <td>23</td>\n",
       "      <td>23.0</td>\n",
       "      <td>20.0</td>\n",
       "      <td>9</td>\n",
       "      <td>5.0</td>\n",
       "    </tr>\n",
       "    <tr>\n",
       "      <th>5</th>\n",
       "      <td>NBC News/Wall St. Jrnl</td>\n",
       "      <td>2019-10-27</td>\n",
       "      <td>2019-10-30</td>\n",
       "      <td>27</td>\n",
       "      <td>23.0</td>\n",
       "      <td>19.0</td>\n",
       "      <td>6</td>\n",
       "      <td>4.0</td>\n",
       "    </tr>\n",
       "    <tr>\n",
       "      <th>6</th>\n",
       "      <td>Politico/Morning Consult</td>\n",
       "      <td>2019-11-04</td>\n",
       "      <td>2019-11-10</td>\n",
       "      <td>32</td>\n",
       "      <td>19.0</td>\n",
       "      <td>20.0</td>\n",
       "      <td>8</td>\n",
       "      <td>5.0</td>\n",
       "    </tr>\n",
       "    <tr>\n",
       "      <th>7</th>\n",
       "      <td>The Hill/HarrisX</td>\n",
       "      <td>2019-11-01</td>\n",
       "      <td>2019-11-02</td>\n",
       "      <td>26</td>\n",
       "      <td>15.0</td>\n",
       "      <td>14.0</td>\n",
       "      <td>6</td>\n",
       "      <td>6.0</td>\n",
       "    </tr>\n",
       "  </tbody>\n",
       "</table>\n",
       "</div>"
      ],
      "text/plain": [
       "                       Poll Initial_Date   End_Date  Biden  Warren  Sanders  \\\n",
       "0        ABC News/Wash Post   2019-10-27 2019-10-30     28    23.0     17.0   \n",
       "1          Economist/YouGov   2019-11-10 2019-11-12     23    26.0     17.0   \n",
       "2                  FOX News   2019-10-27 2019-10-30     31    21.0     19.0   \n",
       "3            Harvard-Harris   2019-10-29 2019-10-31     33    15.0     18.0   \n",
       "4                  Monmouth   2019-10-30 2019-11-03     23    23.0     20.0   \n",
       "5    NBC News/Wall St. Jrnl   2019-10-27 2019-10-30     27    23.0     19.0   \n",
       "6  Politico/Morning Consult   2019-11-04 2019-11-10     32    19.0     20.0   \n",
       "7          The Hill/HarrisX   2019-11-01 2019-11-02     26    15.0     14.0   \n",
       "\n",
       "  Buttigieg  Harris  \n",
       "0         9     2.0  \n",
       "1         9     5.0  \n",
       "2         7     3.0  \n",
       "3         4     5.0  \n",
       "4         9     5.0  \n",
       "5         6     4.0  \n",
       "6         8     5.0  \n",
       "7         6     6.0  "
      ]
     },
     "execution_count": 196,
     "metadata": {},
     "output_type": "execute_result"
    }
   ],
   "source": [
    "# drop polls after 2019-10-27, filter columns, and keep latest poll results for duplicates\n",
    "df_polling_filtered = df_polling[df_polling['Initial_Date'] >= '2019-10-27']\n",
    "df_polling_filtered = df_polling_filtered[['Poll', 'Initial_Date', 'End_Date', 'Biden', 'Warren', 'Sanders', 'Buttigieg', 'Harris']]\n",
    "df_polling_filtered = df_polling_filtered.groupby(['Poll']).first().reset_index(0, drop=False)\n",
    "\n",
    "df_polling_filtered"
   ]
  },
  {
   "cell_type": "code",
   "execution_count": 256,
   "metadata": {},
   "outputs": [
    {
     "data": {
      "text/plain": [
       "Poll                    object\n",
       "Initial_Date    datetime64[ns]\n",
       "End_Date        datetime64[ns]\n",
       "Biden                    int64\n",
       "Warren                 float64\n",
       "Sanders                float64\n",
       "Buttigieg               object\n",
       "Harris                 float64\n",
       "dtype: object"
      ]
     },
     "execution_count": 256,
     "metadata": {},
     "output_type": "execute_result"
    }
   ],
   "source": [
    "df_polling_filtered.dtypes"
   ]
  },
  {
   "cell_type": "code",
   "execution_count": 255,
   "metadata": {},
   "outputs": [
    {
     "data": {
      "text/plain": [
       "dtype('O')"
      ]
     },
     "execution_count": 255,
     "metadata": {},
     "output_type": "execute_result"
    }
   ],
   "source": [
    "df_polling_filtered['Buttigieg'].dtype"
   ]
  },
  {
   "cell_type": "code",
   "execution_count": null,
   "metadata": {},
   "outputs": [],
   "source": []
  },
  {
   "cell_type": "code",
   "execution_count": 261,
   "metadata": {},
   "outputs": [
    {
     "data": {
      "text/plain": [
       "Biden        27.88\n",
       "Warren       20.62\n",
       "Sanders      18.00\n",
       "Buttigieg     7.25\n",
       "Harris        4.38\n",
       "dtype: float64"
      ]
     },
     "execution_count": 261,
     "metadata": {},
     "output_type": "execute_result"
    }
   ],
   "source": [
    "# ensure poll results are numeric\n",
    "df_polling_filtered[['Biden', 'Warren', 'Sanders', 'Buttigieg', 'Harris']] = df_polling_filtered[['Biden', 'Warren', 'Sanders', 'Buttigieg', 'Harris']].apply(pd.to_numeric)\n",
    "\n",
    "# take the mean value and round to 2 places\n",
    "df_polling_filtered[['Biden', 'Warren', 'Sanders', 'Buttigieg', 'Harris']].mean().round(2)"
   ]
  },
  {
   "cell_type": "markdown",
   "metadata": {},
   "source": [
    "## Correlation Analysis\n",
    "Notes:\n",
    "Sentiment correlation may not be so straightforward.\n",
    "Maybe we can create a ranking algorithm that uses sentiment from the twitter data and some other features within a given time interval such as:\n",
    "* number of total tweets\n",
    "* number of positive tweets\n",
    "* average sentiment"
   ]
  },
  {
   "cell_type": "code",
   "execution_count": 262,
   "metadata": {},
   "outputs": [],
   "source": [
    "df_poll_average = df_polling_filtered[['Biden', 'Warren', 'Sanders', 'Buttigieg', 'Harris']].mean(axis=0).round(2)\n"
   ]
  },
  {
   "cell_type": "code",
   "execution_count": 263,
   "metadata": {},
   "outputs": [
    {
     "data": {
      "text/plain": [
       "Biden        27.88\n",
       "Warren       20.62\n",
       "Sanders      18.00\n",
       "Buttigieg     7.25\n",
       "Harris        4.38\n",
       "dtype: float64"
      ]
     },
     "execution_count": 263,
     "metadata": {},
     "output_type": "execute_result"
    }
   ],
   "source": [
    "type(df_poll_average)\n",
    "df_poll_average"
   ]
  },
  {
   "cell_type": "code",
   "execution_count": 264,
   "metadata": {},
   "outputs": [],
   "source": [
    "df = df_sent.T\n",
    "df['polling_avg'] = df_poll_average.values"
   ]
  },
  {
   "cell_type": "code",
   "execution_count": 265,
   "metadata": {},
   "outputs": [
    {
     "data": {
      "text/html": [
       "<div>\n",
       "<style scoped>\n",
       "    .dataframe tbody tr th:only-of-type {\n",
       "        vertical-align: middle;\n",
       "    }\n",
       "\n",
       "    .dataframe tbody tr th {\n",
       "        vertical-align: top;\n",
       "    }\n",
       "\n",
       "    .dataframe thead th {\n",
       "        text-align: right;\n",
       "    }\n",
       "</style>\n",
       "<table border=\"1\" class=\"dataframe\">\n",
       "  <thead>\n",
       "    <tr style=\"text-align: right;\">\n",
       "      <th></th>\n",
       "      <th>2019-10-02 00:00:00</th>\n",
       "      <th>2019-10-09 00:00:00</th>\n",
       "      <th>2019-10-16 00:00:00</th>\n",
       "      <th>2019-10-23 00:00:00</th>\n",
       "      <th>polling_avg</th>\n",
       "    </tr>\n",
       "  </thead>\n",
       "  <tbody>\n",
       "    <tr>\n",
       "      <th>JoeBiden</th>\n",
       "      <td>0.068147</td>\n",
       "      <td>0.102347</td>\n",
       "      <td>0.088505</td>\n",
       "      <td>0.097825</td>\n",
       "      <td>27.88</td>\n",
       "    </tr>\n",
       "    <tr>\n",
       "      <th>SenWarren</th>\n",
       "      <td>0.039470</td>\n",
       "      <td>0.175370</td>\n",
       "      <td>0.129198</td>\n",
       "      <td>0.017157</td>\n",
       "      <td>20.62</td>\n",
       "    </tr>\n",
       "    <tr>\n",
       "      <th>BernieSanders</th>\n",
       "      <td>0.139237</td>\n",
       "      <td>0.196806</td>\n",
       "      <td>0.113038</td>\n",
       "      <td>0.134056</td>\n",
       "      <td>18.00</td>\n",
       "    </tr>\n",
       "    <tr>\n",
       "      <th>PeteButtigieg</th>\n",
       "      <td>0.213173</td>\n",
       "      <td>0.071675</td>\n",
       "      <td>0.203512</td>\n",
       "      <td>0.088568</td>\n",
       "      <td>7.25</td>\n",
       "    </tr>\n",
       "    <tr>\n",
       "      <th>KamalaHarris</th>\n",
       "      <td>0.112059</td>\n",
       "      <td>0.100850</td>\n",
       "      <td>0.174765</td>\n",
       "      <td>0.097215</td>\n",
       "      <td>4.38</td>\n",
       "    </tr>\n",
       "  </tbody>\n",
       "</table>\n",
       "</div>"
      ],
      "text/plain": [
       "               2019-10-02 00:00:00  2019-10-09 00:00:00  2019-10-16 00:00:00  \\\n",
       "JoeBiden                  0.068147             0.102347             0.088505   \n",
       "SenWarren                 0.039470             0.175370             0.129198   \n",
       "BernieSanders             0.139237             0.196806             0.113038   \n",
       "PeteButtigieg             0.213173             0.071675             0.203512   \n",
       "KamalaHarris              0.112059             0.100850             0.174765   \n",
       "\n",
       "               2019-10-23 00:00:00  polling_avg  \n",
       "JoeBiden                  0.097825        27.88  \n",
       "SenWarren                 0.017157        20.62  \n",
       "BernieSanders             0.134056        18.00  \n",
       "PeteButtigieg             0.088568         7.25  \n",
       "KamalaHarris              0.097215         4.38  "
      ]
     },
     "execution_count": 265,
     "metadata": {},
     "output_type": "execute_result"
    }
   ],
   "source": [
    "df"
   ]
  },
  {
   "cell_type": "code",
   "execution_count": 268,
   "metadata": {},
   "outputs": [],
   "source": [
    "import seaborn as sns\n",
    "import matplotlib.pyplot as plt"
   ]
  },
  {
   "cell_type": "code",
   "execution_count": 271,
   "metadata": {},
   "outputs": [
    {
     "data": {
      "text/plain": [
       "<seaborn.axisgrid.PairGrid at 0x116e62978>"
      ]
     },
     "execution_count": 271,
     "metadata": {},
     "output_type": "execute_result"
    },
    {
     "data": {
      "image/png": "[encoded data removed]",
      "text/plain": [
       "<Figure size 360x360 with 6 Axes>"
      ]
     },
     "metadata": {
      "needs_background": "light"
     },
     "output_type": "display_data"
    }
   ],
   "source": [
    "df_plot = df.iloc[:, 3:5]\n",
    "df_plot\n",
    "sns.pairplot(df_plot)"
   ]
  },
  {
   "cell_type": "code",
   "execution_count": null,
   "metadata": {},
   "outputs": [],
   "source": []
  },
  {
   "cell_type": "code",
   "execution_count": null,
   "metadata": {},
   "outputs": [],
   "source": []
  },
  {
   "cell_type": "code",
   "execution_count": null,
   "metadata": {},
   "outputs": [],
   "source": []
  },
  {
   "cell_type": "code",
   "execution_count": null,
   "metadata": {},
   "outputs": [],
   "source": []
  },
  {
   "cell_type": "code",
   "execution_count": null,
   "metadata": {},
   "outputs": [],
   "source": []
  },
  {
   "cell_type": "code",
   "execution_count": null,
   "metadata": {},
   "outputs": [],
   "source": []
  },
  {
   "cell_type": "code",
   "execution_count": null,
   "metadata": {},
   "outputs": [],
   "source": []
  },
  {
   "cell_type": "code",
   "execution_count": null,
   "metadata": {},
   "outputs": [],
   "source": []
  },
  {
   "cell_type": "code",
   "execution_count": null,
   "metadata": {},
   "outputs": [],
   "source": []
  },
  {
   "cell_type": "code",
   "execution_count": null,
   "metadata": {},
   "outputs": [],
   "source": []
  }
 ],
 "metadata": {
  "kernelspec": {
   "display_name": "Python 3",
   "language": "python",
   "name": "python3"
  },
  "language_info": {
   "codemirror_mode": {
    "name": "ipython",
    "version": 3
   },
   "file_extension": ".py",
   "mimetype": "text/x-python",
   "name": "python",
   "nbconvert_exporter": "python",
   "pygments_lexer": "ipython3",
   "version": "3.6.9"
  }
 },
 "nbformat": 4,
 "nbformat_minor": 2
}
